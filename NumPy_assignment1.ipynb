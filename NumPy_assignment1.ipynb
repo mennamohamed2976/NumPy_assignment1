{
  "cells": [
    {
      "cell_type": "markdown",
      "metadata": {
        "id": "Y72mcNaWsI8_"
      },
      "source": [
        "# 1. Create a 1D NumPy array of numbers from 0 to 9.\n"
      ]
    },
    {
      "cell_type": "code",
      "execution_count": 1,
      "metadata": {},
      "outputs": [
        {
          "data": {
            "text/plain": [
              "array([0, 1, 2, 3, 4, 5, 6, 7, 8, 9])"
            ]
          },
          "execution_count": 1,
          "metadata": {},
          "output_type": "execute_result"
        }
      ],
      "source": [
        "import numpy as np\n",
        "a=np.array([0,1,2,3,4,5,6,7,8,9])\n",
        "a"
      ]
    },
    {
      "cell_type": "markdown",
      "metadata": {
        "id": "epp2xgY3sLNF"
      },
      "source": [
        "# 2. Create a 2x3 array of ones.\n"
      ]
    },
    {
      "cell_type": "code",
      "execution_count": 2,
      "metadata": {},
      "outputs": [
        {
          "data": {
            "text/plain": [
              "array([[1., 1., 1.],\n",
              "       [1., 1., 1.]])"
            ]
          },
          "execution_count": 2,
          "metadata": {},
          "output_type": "execute_result"
        }
      ],
      "source": [
        "mat=np.ones((2,3))\n",
        "mat"
      ]
    },
    {
      "cell_type": "markdown",
      "metadata": {
        "id": "2Urx7JWvsMvN"
      },
      "source": [
        "# 3. Create a 3x3 identity matrix.\n"
      ]
    },
    {
      "cell_type": "code",
      "execution_count": 3,
      "metadata": {},
      "outputs": [
        {
          "data": {
            "text/plain": [
              "array([[1, 0, 0],\n",
              "       [0, 1, 0],\n",
              "       [0, 0, 1]])"
            ]
          },
          "execution_count": 3,
          "metadata": {},
          "output_type": "execute_result"
        }
      ],
      "source": [
        "mat=np.identity(3,dtype=\"int\")\n",
        "mat"
      ]
    },
    {
      "cell_type": "markdown",
      "metadata": {
        "id": "2-GA5RUNsOGD"
      },
      "source": [
        "# 4. Create an array of 10 zeros.\n"
      ]
    },
    {
      "cell_type": "code",
      "execution_count": 4,
      "metadata": {},
      "outputs": [
        {
          "data": {
            "text/plain": [
              "array([[0, 0],\n",
              "       [0, 0],\n",
              "       [0, 0],\n",
              "       [0, 0],\n",
              "       [0, 0]])"
            ]
          },
          "execution_count": 4,
          "metadata": {},
          "output_type": "execute_result"
        }
      ],
      "source": [
        "a=np.zeros((5,2),dtype=\"int\")\n",
        "a"
      ]
    },
    {
      "cell_type": "markdown",
      "metadata": {
        "id": "f6PiFd5GsPSp"
      },
      "source": [
        "# 5. Create a 3x3 array of random integers between 1 and 10.\n"
      ]
    },
    {
      "cell_type": "code",
      "execution_count": 5,
      "metadata": {},
      "outputs": [
        {
          "data": {
            "text/plain": [
              "array([[5, 9, 0],\n",
              "       [7, 2, 2],\n",
              "       [5, 8, 8]])"
            ]
          },
          "execution_count": 5,
          "metadata": {},
          "output_type": "execute_result"
        }
      ],
      "source": [
        "a=np.random.randint(0,10,(3,3))\n",
        "a"
      ]
    },
    {
      "cell_type": "markdown",
      "metadata": {
        "id": "DjNgr5B2sQlD"
      },
      "source": [
        "# 6. Reshape an array of 9 elements into a 3x3 matrix.\n"
      ]
    },
    {
      "cell_type": "code",
      "execution_count": 6,
      "metadata": {},
      "outputs": [
        {
          "data": {
            "text/plain": [
              "array([[1, 2, 3],\n",
              "       [4, 5, 6],\n",
              "       [7, 8, 9]])"
            ]
          },
          "execution_count": 6,
          "metadata": {},
          "output_type": "execute_result"
        }
      ],
      "source": [
        "a=np.array([1,2,3,4,5,6,7,8,9])\n",
        "mat=a.reshape(3,3)\n",
        "mat"
      ]
    },
    {
      "cell_type": "markdown",
      "metadata": {
        "id": "eP0KVZgxsRXM"
      },
      "source": [
        "# 7. Find the sum of all elements in an array.\n"
      ]
    },
    {
      "cell_type": "code",
      "execution_count": 7,
      "metadata": {},
      "outputs": [
        {
          "data": {
            "text/plain": [
              "45"
            ]
          },
          "execution_count": 7,
          "metadata": {},
          "output_type": "execute_result"
        }
      ],
      "source": [
        "a=np.array([1,2,3,4,5,6,7,8,9])\n",
        "sum=a.sum()\n",
        "sum"
      ]
    },
    {
      "cell_type": "markdown",
      "metadata": {
        "id": "uDy9P0tosUiT"
      },
      "source": [
        "# 8. Find the mean of an array.\n"
      ]
    },
    {
      "cell_type": "code",
      "execution_count": 8,
      "metadata": {},
      "outputs": [
        {
          "data": {
            "text/plain": [
              "5.0"
            ]
          },
          "execution_count": 8,
          "metadata": {},
          "output_type": "execute_result"
        }
      ],
      "source": [
        "a=np.array([1,2,3,4,5,6,7,8,9])\n",
        "mean=a.mean()\n",
        "mean"
      ]
    },
    {
      "cell_type": "markdown",
      "metadata": {
        "id": "iMU1iLXpsWSZ"
      },
      "source": [
        "# 9. Find the median of an array.\n"
      ]
    },
    {
      "cell_type": "code",
      "execution_count": 9,
      "metadata": {},
      "outputs": [
        {
          "name": "stdout",
          "output_type": "stream",
          "text": [
            "5\n"
          ]
        }
      ],
      "source": [
        "a=np.array([1,2,3,4,5,6,7,8,9])\n",
        "a.sort()\n",
        "n=len(a)\n",
        "mid=n//2\n",
        "if n % 2 == 0:  \n",
        "        median = (a[mid - 1] + a[mid]) / 2\n",
        "else:  \n",
        "        median = a[mid]\n",
        "print(median)\n"
      ]
    },
    {
      "cell_type": "markdown",
      "metadata": {
        "id": "fbJZRFl7sYxI"
      },
      "source": [
        "# 10. Multiply all elements in an array by a scalar (e.g., 2).\n"
      ]
    },
    {
      "cell_type": "code",
      "execution_count": 10,
      "metadata": {},
      "outputs": [
        {
          "data": {
            "text/plain": [
              "array([ 2,  4,  6,  8, 10])"
            ]
          },
          "execution_count": 10,
          "metadata": {},
          "output_type": "execute_result"
        }
      ],
      "source": [
        "a=np.array([1,2,3,4,5])\n",
        "s=2\n",
        "a=a*s\n",
        "a"
      ]
    },
    {
      "cell_type": "markdown",
      "metadata": {
        "id": "FAlAMuQGsaa9"
      },
      "source": [
        "# 11. Find the maximum and minimum values of an array.\n"
      ]
    },
    {
      "cell_type": "code",
      "execution_count": 11,
      "metadata": {},
      "outputs": [
        {
          "name": "stdout",
          "output_type": "stream",
          "text": [
            "1 \n",
            " 5\n"
          ]
        }
      ],
      "source": [
        "a=np.array([1,2,3,4,5])\n",
        "a_min=a.min()\n",
        "a_max=a.max()\n",
        "print(a_min,\"\\n\", a_max)"
      ]
    },
    {
      "cell_type": "markdown",
      "metadata": {
        "id": "2jTPEN5ise_M"
      },
      "source": [
        "# 12. Find the dot product of two arrays.\n"
      ]
    },
    {
      "cell_type": "code",
      "execution_count": 12,
      "metadata": {},
      "outputs": [
        {
          "data": {
            "text/plain": [
              "55"
            ]
          },
          "execution_count": 12,
          "metadata": {},
          "output_type": "execute_result"
        }
      ],
      "source": [
        "v1=np.array([1,2,3,4,5])\n",
        "v2=np.array([1,2,3,4,5])\n",
        "v1.dot(v2)"
      ]
    },
    {
      "cell_type": "markdown",
      "metadata": {
        "id": "uzKBuqxRslLv"
      },
      "source": [
        "# 13. Find the index of the maximum value in an array.\n"
      ]
    },
    {
      "cell_type": "code",
      "execution_count": 13,
      "metadata": {},
      "outputs": [
        {
          "data": {
            "text/plain": [
              "4"
            ]
          },
          "execution_count": 13,
          "metadata": {},
          "output_type": "execute_result"
        }
      ],
      "source": [
        "a=np.array([1,2,3,4,5])\n",
        "index_a_max=np.argmax(a)\n",
        "index_a_max"
      ]
    },
    {
      "cell_type": "markdown",
      "metadata": {
        "id": "D8hz97uTsoKV"
      },
      "source": [
        "# 14. Find the index of the minimum value in an array.\n"
      ]
    },
    {
      "cell_type": "code",
      "execution_count": 14,
      "metadata": {},
      "outputs": [
        {
          "data": {
            "text/plain": [
              "0"
            ]
          },
          "execution_count": 14,
          "metadata": {},
          "output_type": "execute_result"
        }
      ],
      "source": [
        "a=np.array([1,2,3,4,5])\n",
        "index_a_min=np.argmin(a)\n",
        "index_a_min"
      ]
    },
    {
      "cell_type": "markdown",
      "metadata": {
        "id": "G8lSFqdRspXu"
      },
      "source": [
        "# 15. Sort an array in ascending order.\n"
      ]
    },
    {
      "cell_type": "code",
      "execution_count": 15,
      "metadata": {
        "id": "pMNedCEjsBcz"
      },
      "outputs": [
        {
          "data": {
            "text/plain": [
              "array([ 3, 13, 22, 41, 50])"
            ]
          },
          "execution_count": 15,
          "metadata": {},
          "output_type": "execute_result"
        }
      ],
      "source": [
        "a=np.array([13,22,3,41,50])\n",
        "sort_a=np.sort(a)\n",
        "sort_a"
      ]
    }
  ],
  "metadata": {
    "colab": {
      "private_outputs": true,
      "provenance": []
    },
    "kernelspec": {
      "display_name": "base",
      "language": "python",
      "name": "python3"
    },
    "language_info": {
      "codemirror_mode": {
        "name": "ipython",
        "version": 3
      },
      "file_extension": ".py",
      "mimetype": "text/x-python",
      "name": "python",
      "nbconvert_exporter": "python",
      "pygments_lexer": "ipython3",
      "version": "3.12.4"
    }
  },
  "nbformat": 4,
  "nbformat_minor": 0
}
